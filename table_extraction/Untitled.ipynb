{
 "cells": [
  {
   "cell_type": "code",
   "execution_count": 2,
   "id": "a69c0abd-fb15-48de-b867-9e03e36f1c2e",
   "metadata": {},
   "outputs": [],
   "source": [
    "import pandas as pd"
   ]
  },
  {
   "cell_type": "code",
   "execution_count": 6,
   "id": "aff5f2a2-892f-4908-8bc2-3714d3eaabfe",
   "metadata": {},
   "outputs": [],
   "source": [
    "simpsons = pd.read_html('https://en.wikipedia.org/wiki/List_of_The_Simpsons_episodes')"
   ]
  },
  {
   "cell_type": "code",
   "execution_count": 7,
   "id": "acf7cc94-519a-425d-a081-27817873b972",
   "metadata": {},
   "outputs": [
    {
     "data": {
      "text/plain": [
       "16"
      ]
     },
     "execution_count": 7,
     "metadata": {},
     "output_type": "execute_result"
    }
   ],
   "source": [
    "len(simpsons)"
   ]
  },
  {
   "cell_type": "code",
   "execution_count": 10,
   "id": "9cd3f6b0-c7a7-4389-b1e7-d60c9fd5eff9",
   "metadata": {},
   "outputs": [
    {
     "data": {
      "text/html": [
       "<div>\n",
       "<style scoped>\n",
       "    .dataframe tbody tr th:only-of-type {\n",
       "        vertical-align: middle;\n",
       "    }\n",
       "\n",
       "    .dataframe tbody tr th {\n",
       "        vertical-align: top;\n",
       "    }\n",
       "\n",
       "    .dataframe thead th {\n",
       "        text-align: right;\n",
       "    }\n",
       "</style>\n",
       "<table border=\"1\" class=\"dataframe\">\n",
       "  <thead>\n",
       "    <tr style=\"text-align: right;\">\n",
       "      <th></th>\n",
       "      <th>Title</th>\n",
       "      <th>Directed by</th>\n",
       "      <th>Written by</th>\n",
       "      <th>Original release date</th>\n",
       "    </tr>\n",
       "  </thead>\n",
       "  <tbody>\n",
       "    <tr>\n",
       "      <th>0</th>\n",
       "      <td>The Force Awakens from Its Nap</td>\n",
       "      <td>David Silverman</td>\n",
       "      <td>Joel H. Cohen, Al Jean &amp; Michael Price</td>\n",
       "      <td>May 4, 2021</td>\n",
       "    </tr>\n",
       "    <tr>\n",
       "      <th>1</th>\n",
       "      <td>The Good, the Bart, and the Loki</td>\n",
       "      <td>David Silverman</td>\n",
       "      <td>Elisabeth Kiernan Averick, Jessica Conrad, Joh...</td>\n",
       "      <td>July 7, 2021</td>\n",
       "    </tr>\n",
       "    <tr>\n",
       "      <th>2</th>\n",
       "      <td>Plusaversary</td>\n",
       "      <td>David Silverman</td>\n",
       "      <td>Joel H. Cohen, Jessica Conrad, Al Jean, Loni S...</td>\n",
       "      <td>November 12, 2021</td>\n",
       "    </tr>\n",
       "    <tr>\n",
       "      <th>3</th>\n",
       "      <td>When Billie Met Lisa</td>\n",
       "      <td>David Silverman</td>\n",
       "      <td>Elisabeth Kiernan Averick, Broti Gupta, Al Jea...</td>\n",
       "      <td>April 22, 2022</td>\n",
       "    </tr>\n",
       "    <tr>\n",
       "      <th>4</th>\n",
       "      <td>Welcome to the Club</td>\n",
       "      <td>David Silverman</td>\n",
       "      <td>J. Stewart Burns, Joel H. Cohen, Al Jean, Chri...</td>\n",
       "      <td>September 8, 2022</td>\n",
       "    </tr>\n",
       "    <tr>\n",
       "      <th>5</th>\n",
       "      <td>The Simpsons Meet the Bocellis in 'Feliz Navidad'</td>\n",
       "      <td>David Silverman</td>\n",
       "      <td>Joel H. Cohen, Al Jean, Ryan Koh &amp; David Mirkin</td>\n",
       "      <td>December 15, 2022</td>\n",
       "    </tr>\n",
       "    <tr>\n",
       "      <th>6</th>\n",
       "      <td>Rogue Not Quite One</td>\n",
       "      <td>David Silverman</td>\n",
       "      <td>Al Jean, Ryan Koh, Loni Steele Sosthand, Dan V...</td>\n",
       "      <td>May 4, 2023</td>\n",
       "    </tr>\n",
       "  </tbody>\n",
       "</table>\n",
       "</div>"
      ],
      "text/plain": [
       "                                               Title      Directed by  \\\n",
       "0                     The Force Awakens from Its Nap  David Silverman   \n",
       "1                   The Good, the Bart, and the Loki  David Silverman   \n",
       "2                                       Plusaversary  David Silverman   \n",
       "3                               When Billie Met Lisa  David Silverman   \n",
       "4                                Welcome to the Club  David Silverman   \n",
       "5  The Simpsons Meet the Bocellis in 'Feliz Navidad'  David Silverman   \n",
       "6                                Rogue Not Quite One  David Silverman   \n",
       "\n",
       "                                          Written by Original release date  \n",
       "0             Joel H. Cohen, Al Jean & Michael Price           May 4, 2021  \n",
       "1  Elisabeth Kiernan Averick, Jessica Conrad, Joh...          July 7, 2021  \n",
       "2  Joel H. Cohen, Jessica Conrad, Al Jean, Loni S...     November 12, 2021  \n",
       "3  Elisabeth Kiernan Averick, Broti Gupta, Al Jea...        April 22, 2022  \n",
       "4  J. Stewart Burns, Joel H. Cohen, Al Jean, Chri...     September 8, 2022  \n",
       "5    Joel H. Cohen, Al Jean, Ryan Koh & David Mirkin     December 15, 2022  \n",
       "6  Al Jean, Ryan Koh, Loni Steele Sosthand, Dan V...           May 4, 2023  "
      ]
     },
     "execution_count": 10,
     "metadata": {},
     "output_type": "execute_result"
    }
   ],
   "source": [
    "simpsons[3]"
   ]
  },
  {
   "cell_type": "code",
   "execution_count": null,
   "id": "07cd851d-cd03-4dc5-a24e-fb4e7a5d7579",
   "metadata": {},
   "outputs": [],
   "source": []
  },
  {
   "cell_type": "code",
   "execution_count": null,
   "id": "268ff2cc-8c5f-4543-ba73-8622df77c8e4",
   "metadata": {},
   "outputs": [],
   "source": []
  }
 ],
 "metadata": {
  "kernelspec": {
   "display_name": "Python 3 (ipykernel)",
   "language": "python",
   "name": "python3"
  },
  "language_info": {
   "codemirror_mode": {
    "name": "ipython",
    "version": 3
   },
   "file_extension": ".py",
   "mimetype": "text/x-python",
   "name": "python",
   "nbconvert_exporter": "python",
   "pygments_lexer": "ipython3",
   "version": "3.11.2"
  }
 },
 "nbformat": 4,
 "nbformat_minor": 5
}
